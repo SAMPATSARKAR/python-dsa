{
 "cells": [
  {
   "cell_type": "code",
   "execution_count": 2,
   "metadata": {},
   "outputs": [
    {
     "name": "stdout",
     "output_type": "stream",
     "text": [
      "Don't forget to pay for utility bills \n",
      "To Do list remaining\n",
      "-Buy Groceries\n",
      "-Pay bills\n",
      "-Schedule meeting\n",
      "-Go for Run\n"
     ]
    }
   ],
   "source": [
    "#Manage a to do list(list is used because it is mutable)\n",
    "to_do_list=[\"Buy Groceries\",\"Clean the house\",\"Pay bills\"]\n",
    "\n",
    "#Adding to task\n",
    "to_do_list.append(\"Schedule meeting\")\n",
    "to_do_list.append(\"Go for Run\")\n",
    "#Remove a completed task\n",
    "to_do_list.remove(\"Clean the house\")\n",
    "## checking if a task is in the list\n",
    "if \"Pay bills\" in to_do_list:\n",
    "    print(\"Don't forget to pay for utility bills \")\n",
    "print(\"To Do list remaining\")\n",
    "for task in to_do_list:\n",
    "    print(f\"-{task}\")\n",
    "\n",
    "\n",
    "\n",
    "\n",
    "\n"
   ]
  },
  {
   "cell_type": "code",
   "execution_count": 3,
   "metadata": {},
   "outputs": [
    {
     "name": "stdout",
     "output_type": "stream",
     "text": [
      "Average Grades: 88.00\n",
      "Highest Grades: 95.00\n",
      "lowest Grades: 78.00\n"
     ]
    }
   ],
   "source": [
    "#organizing student grades\n",
    "grades=[85,92,78,90,88]\n",
    "#Adding a new grade\n",
    "grades.append(95)\n",
    "#calculating average\n",
    "average_grades=sum(grades)/len(grades)\n",
    "print(f\"Average Grades: {average_grades:.2f}\")\n",
    "#Finding the Highest and Lowest grades\n",
    "highest_grades =max(grades)\n",
    "lowest_grades = min(grades)\n",
    "print(f\"Highest Grades: {highest_grades:.2f}\")\n",
    "print(f\"lowest Grades: {lowest_grades :.2f}\")"
   ]
  },
  {
   "cell_type": "code",
   "execution_count": 7,
   "metadata": {},
   "outputs": [
    {
     "name": "stdout",
     "output_type": "stream",
     "text": [
      "in stock : oranges\n",
      "Inventory list\n",
      "-apples\n",
      "-oranges\n",
      "-grapes\n",
      "-strawberries\n"
     ]
    }
   ],
   "source": [
    "#Managing the inventory\n",
    "inventory = [\"apples\",\"bananas\",\"oranges\",\"grapes\"]\n",
    "#adding a new item\n",
    "inventory.append(\"strawberries\")\n",
    "#Removing an item that is out of stock\n",
    "inventory.remove(\"bananas\")\n",
    "#checking if an item is in the stock\n",
    "item=\"oranges\"\n",
    "if item in inventory:\n",
    "    print(f\"in stock : {item}\")\n",
    "else:\n",
    "    print(f\"Out of stock: {item}\")\n",
    "\n",
    "#printing the inventory\n",
    "print(\"Inventory list\")\n",
    "for items in inventory:\n",
    "    print(f\"-{items}\")"
   ]
  },
  {
   "cell_type": "code",
   "execution_count": 8,
   "metadata": {},
   "outputs": [
    {
     "name": "stdout",
     "output_type": "stream",
     "text": [
      "Positive Feedback Count: 2\n",
      "User Feedback:\n",
      "-great services!\n",
      "-Very satisfied\n",
      "-could be better\n",
      "-Excellent experience\n",
      "-Not happy with the services\n"
     ]
    }
   ],
   "source": [
    "# Collecting user feedback\n",
    "feedback = [\"great services!\",\"Very satisfied\",\"could be better\",\"Excellent experience\"]\n",
    "#Adding new feedback\n",
    "feedback.append(\"Not happy with the services\")\n",
    "#counnting specific feedback\n",
    "positive_feedback_count=sum(1 for comment in feedback if \"great\" in comment.lower() or \"excellent\" in comment.lower())\n",
    "print(f\"Positive Feedback Count: {positive_feedback_count}\")\n",
    "# printing all feedback\n",
    "print(\"User Feedback:\")  \n",
    "for comment in feedback:\n",
    "    print(f\"-{comment}\")\n",
    "                            "
   ]
  },
  {
   "cell_type": "code",
   "execution_count": null,
   "metadata": {},
   "outputs": [],
   "source": []
  }
 ],
 "metadata": {
  "kernelspec": {
   "display_name": "Python 3",
   "language": "python",
   "name": "python3"
  },
  "language_info": {
   "codemirror_mode": {
    "name": "ipython",
    "version": 3
   },
   "file_extension": ".py",
   "mimetype": "text/x-python",
   "name": "python",
   "nbconvert_exporter": "python",
   "pygments_lexer": "ipython3",
   "version": "3.12.4"
  }
 },
 "nbformat": 4,
 "nbformat_minor": 2
}
