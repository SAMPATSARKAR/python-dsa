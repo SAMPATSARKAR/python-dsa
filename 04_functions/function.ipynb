{
 "cells": [
  {
   "cell_type": "code",
   "execution_count": null,
   "metadata": {},
   "outputs": [],
   "source": [
    "#syntax \n",
    "def function_name(parameters):\n",
    "     \"\"\"Docstring\"\"\"\n",
    "    #function body\n",
    "    return expression "
   ]
  },
  {
   "cell_type": "code",
   "execution_count": 1,
   "metadata": {},
   "outputs": [
    {
     "name": "stdout",
     "output_type": "stream",
     "text": [
      "The number is even\n"
     ]
    }
   ],
   "source": [
    "def even_or_odd(num):\n",
    "    if num%2==0:\n",
    "        print(\"The number is even\")\n",
    "    else:\n",
    "        print(\"Thr number is odd\")\n",
    "\n",
    "even_or_odd(16)"
   ]
  },
  {
   "cell_type": "code",
   "execution_count": 2,
   "metadata": {},
   "outputs": [
    {
     "name": "stdout",
     "output_type": "stream",
     "text": [
      "6\n"
     ]
    }
   ],
   "source": [
    "#function with paramenters\n",
    "\n",
    "def add(a,b):\n",
    "    return a+b\n",
    "    \n",
    "result=add(2,4)\n",
    "print(result)"
   ]
  },
  {
   "cell_type": "code",
   "execution_count": 3,
   "metadata": {},
   "outputs": [
    {
     "name": "stdout",
     "output_type": "stream",
     "text": [
      "Hello krish\n"
     ]
    }
   ],
   "source": [
    "#default parameters\n",
    "def greet(name):\n",
    "    print(f\"Hello {name}\")\n",
    "greet(\"krish\")"
   ]
  },
  {
   "cell_type": "code",
   "execution_count": 5,
   "metadata": {},
   "outputs": [
    {
     "name": "stdout",
     "output_type": "stream",
     "text": [
      "1\n",
      "2\n",
      "3\n",
      "4\n",
      "5\n",
      "6\n",
      "7\n",
      "8\n",
      "9\n",
      "Krish\n"
     ]
    }
   ],
   "source": [
    "\n",
    "\n",
    "def print_numbers(*args):\n",
    "    for numbers in args:\n",
    "        print(numbers)\n",
    "\n",
    "print_numbers(1,2,3,4,5,6,7,8,9,\"Krish\")"
   ]
  },
  {
   "cell_type": "code",
   "execution_count": 6,
   "metadata": {},
   "outputs": [
    {
     "name": "stdout",
     "output_type": "stream",
     "text": [
      "name:Krish\n",
      "age:33\n",
      "address:mumbai\n"
     ]
    }
   ],
   "source": [
    "#key word arguments\n",
    "\n",
    "\n",
    "def print_details(**kwargs):\n",
    "     for key,value in kwargs.items():\n",
    "          print(f\"{key}:{value}\")\n",
    "\n",
    "print_details(name=\"Krish\",age=33,address=\"mumbai\")"
   ]
  },
  {
   "cell_type": "code",
   "execution_count": 10,
   "metadata": {},
   "outputs": [
    {
     "name": "stdout",
     "output_type": "stream",
     "text": [
      "positional arguments1\n",
      "positional arguments2\n",
      "positional arguments3\n",
      "positional arguments4\n",
      "positional arguments5\n",
      "positional arguments6\n",
      "positional arguments7\n",
      "positional arguments8\n",
      "positional argumentsKrish\n",
      "name:Krish\n",
      "age:33\n",
      "address:mumbai\n"
     ]
    }
   ],
   "source": [
    "def print_details(*args,**kwargs):\n",
    "     for numbers in args:\n",
    "        print(f\"positional arguments{numbers}\")\n",
    "\n",
    "     \n",
    "     for key,value in kwargs.items():\n",
    "          print(f\"{key}:{value}\")\n",
    "\n",
    "print_details(1,2,3,4,5,6,7,8,\"Krish\",name=\"Krish\",age=33,address=\"mumbai\")"
   ]
  },
  {
   "cell_type": "code",
   "execution_count": 11,
   "metadata": {},
   "outputs": [
    {
     "data": {
      "text/plain": [
       "6"
      ]
     },
     "execution_count": 11,
     "metadata": {},
     "output_type": "execute_result"
    }
   ],
   "source": [
    "#Return multiple statements \n",
    "\n",
    "def multiply(a,b):\n",
    "    return a*b \n",
    "multiply(2,3)\n"
   ]
  },
  {
   "cell_type": "code",
   "execution_count": null,
   "metadata": {},
   "outputs": [],
   "source": []
  },
  {
   "cell_type": "code",
   "execution_count": null,
   "metadata": {},
   "outputs": [],
   "source": []
  },
  {
   "cell_type": "code",
   "execution_count": null,
   "metadata": {},
   "outputs": [],
   "source": []
  },
  {
   "cell_type": "code",
   "execution_count": null,
   "metadata": {},
   "outputs": [],
   "source": []
  },
  {
   "cell_type": "code",
   "execution_count": null,
   "metadata": {},
   "outputs": [],
   "source": []
  },
  {
   "cell_type": "code",
   "execution_count": null,
   "metadata": {},
   "outputs": [],
   "source": []
  },
  {
   "cell_type": "code",
   "execution_count": null,
   "metadata": {},
   "outputs": [],
   "source": []
  }
 ],
 "metadata": {
  "kernelspec": {
   "display_name": "Python 3",
   "language": "python",
   "name": "python3"
  },
  "language_info": {
   "codemirror_mode": {
    "name": "ipython",
    "version": 3
   },
   "file_extension": ".py",
   "mimetype": "text/x-python",
   "name": "python",
   "nbconvert_exporter": "python",
   "pygments_lexer": "ipython3",
   "version": "3.12.4"
  }
 },
 "nbformat": 4,
 "nbformat_minor": 2
}
