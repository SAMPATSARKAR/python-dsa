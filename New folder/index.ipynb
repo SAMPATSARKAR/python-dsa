{
 "cells": [
  {
   "cell_type": "code",
   "execution_count": 4,
   "metadata": {},
   "outputs": [
    {
     "name": "stdout",
     "output_type": "stream",
     "text": [
      "The number is zero or negative\n"
     ]
    }
   ],
   "source": [
    "# number is even,odd,negative\n",
    "\n",
    "num = int(input(\"Enter a number: \"))\n",
    "\n",
    "if num>=0:\n",
    "    print(\"The number is positive\")\n",
    "    if (num%2==0):\n",
    "        print(\"the number is even\")\n",
    "    else:\n",
    "        print(\"THe number is odd\")\n",
    "else:\n",
    "    print(\"The number is zero or negative\")"
   ]
  },
  {
   "cell_type": "code",
   "execution_count": 10,
   "metadata": {},
   "outputs": [
    {
     "name": "stdout",
     "output_type": "stream",
     "text": [
      "2016 Not a leap year\n"
     ]
    }
   ],
   "source": [
    "# determine if a year is a leap year  using nested condition statement\n",
    "year = int(input(\"Enter a number: \"))\n",
    "\n",
    "if year%4==0:\n",
    "    if year%100==0:\n",
    "        if year%400==0:\n",
    "            print(year,\"is a leap year\")\n",
    "        else:\n",
    "            print(year,\"Not a leap year\")\n",
    "    else:\n",
    "        print(year,\"is a leap year\")\n",
    "else:\n",
    "    print(year,\"Not a leap year\")"
   ]
  },
  {
   "cell_type": "code",
   "execution_count": 4,
   "metadata": {},
   "outputs": [
    {
     "name": "stdout",
     "output_type": "stream",
     "text": [
      "Invalid, Division by Zero\n"
     ]
    }
   ],
   "source": [
    "num1 = float(input(\"Enter a number: \"))\n",
    "num2 = float(input(\"Enter a number: \"))\n",
    "a = input(\"enter operation (+,-,/,*): \")\n",
    "\n",
    "if a == \"+\":\n",
    "    result= num1 + num2\n",
    "elif a == \"-\":\n",
    "    result= num1-num2\n",
    "elif a == \"*\":\n",
    "    result= num1* num2\n",
    "elif a == \"/\":\n",
    "    if num2!=0:\n",
    "        result=num1/num2\n",
    "    else:\n",
    "        result=\"Invalid, Division by Zero\"\n",
    "else:\n",
    "    result = \"invalid operation\"\n",
    "\n",
    "print(result)\n",
    "    "
   ]
  },
  {
   "cell_type": "code",
   "execution_count": 5,
   "metadata": {},
   "outputs": [
    {
     "name": "stdout",
     "output_type": "stream",
     "text": [
      "price $18\n"
     ]
    }
   ],
   "source": [
    "age = int(input(\"enter a number a number: \"))\n",
    "is_student = input(\"are you a student? (yes/no): \")\n",
    "if age<5:\n",
    "    price=\"free\"\n",
    "elif age <=12:\n",
    "    price=\"$10\"\n",
    "elif age <=17:\n",
    "    if is_student==\"yes\":\n",
    "        price=\"$12\"\n",
    "    else:\n",
    "        price=\"$15\"\n",
    "elif age <= 64:\n",
    "    if is_student==\"yes\":\n",
    "        price=\"$18\"\n",
    "    else:\n",
    "        price=\"$20\"\n",
    "else:\n",
    "    price=\"25\"\n",
    "print(\"price\",price)\n",
    "\n"
   ]
  }
 ],
 "metadata": {
  "kernelspec": {
   "display_name": "Python 3",
   "language": "python",
   "name": "python3"
  },
  "language_info": {
   "codemirror_mode": {
    "name": "ipython",
    "version": 3
   },
   "file_extension": ".py",
   "mimetype": "text/x-python",
   "name": "python",
   "nbconvert_exporter": "python",
   "pygments_lexer": "ipython3",
   "version": "3.12.4"
  }
 },
 "nbformat": 4,
 "nbformat_minor": 2
}
